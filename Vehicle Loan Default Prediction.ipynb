{
  "nbformat": 4,
  "nbformat_minor": 0,
  "metadata": {
    "colab": {
      "name": "LTFS_submission.ipynb",
      "version": "0.3.2",
      "provenance": [],
      "collapsed_sections": []
    },
    "kernelspec": {
      "name": "python3",
      "display_name": "Python 3"
    },
    "accelerator": "GPU"
  },
  "cells": [
    {
      "metadata": {
        "id": "1D_ddA9zSE7i",
        "colab_type": "code",
        "outputId": "27d17602-3c9a-45d8-996a-457e4aceeb8e",
        "colab": {
          "base_uri": "https://localhost:8080/",
          "height": 302
        }
      },
      "cell_type": "code",
      "source": [
        "# Downloading and Unzipping data in google colaboratory runtime files\n",
        "!wget \"https://datahack-prod.s3.amazonaws.com/train_file/train_aox2Jxw.zip\" -O train.zip; unzip train.zip; rm train.zip"
      ],
      "execution_count": 0,
      "outputs": [
        {
          "output_type": "stream",
          "text": [
            "--2019-04-20 21:41:31--  https://datahack-prod.s3.amazonaws.com/train_file/train_aox2Jxw.zip\n",
            "Resolving datahack-prod.s3.amazonaws.com (datahack-prod.s3.amazonaws.com)... 52.219.62.4\n",
            "Connecting to datahack-prod.s3.amazonaws.com (datahack-prod.s3.amazonaws.com)|52.219.62.4|:443... connected.\n",
            "HTTP request sent, awaiting response... 200 OK\n",
            "Length: 8087338 (7.7M) [application/zip]\n",
            "Saving to: ‘train.zip’\n",
            "\n",
            "train.zip           100%[===================>]   7.71M  3.69MB/s    in 2.1s    \n",
            "\n",
            "2019-04-20 21:41:34 (3.69 MB/s) - ‘train.zip’ saved [8087338/8087338]\n",
            "\n",
            "Archive:  train.zip\n",
            "  inflating: train.csv               \n",
            "   creating: __MACOSX/\n",
            "  inflating: __MACOSX/._train.csv    \n",
            "  inflating: Data Dictionary.xlsx    \n",
            "  inflating: __MACOSX/._Data Dictionary.xlsx  \n"
          ],
          "name": "stdout"
        }
      ]
    },
    {
      "metadata": {
        "id": "uzLLg6CgSm6E",
        "colab_type": "code",
        "colab": {}
      },
      "cell_type": "code",
      "source": [
        "import pandas as pd"
      ],
      "execution_count": 0,
      "outputs": []
    },
    {
      "metadata": {
        "id": "OEqmrqtwSv2b",
        "colab_type": "code",
        "colab": {}
      },
      "cell_type": "code",
      "source": [
        "train = pd.read_csv(\"train.csv\")\n",
        "test  = pd.read_csv(\"test_bqCt9Pv.csv\") #uploaded to Google Colab directly"
      ],
      "execution_count": 0,
      "outputs": []
    },
    {
      "metadata": {
        "id": "nKAc7Su_nRB2",
        "colab_type": "code",
        "colab": {}
      },
      "cell_type": "code",
      "source": [
        "# Looking at the data headers, these values aren't required\n",
        "train = train.drop(['UniqueID', 'supplier_id', 'Current_pincode_ID', 'Date.of.Birth', 'DisbursalDate', 'Employee_code_ID'], axis = 1)\n",
        "test = test.drop(['UniqueID', 'supplier_id', 'Current_pincode_ID', 'Date.of.Birth', 'DisbursalDate', 'Employee_code_ID'], axis = 1)"
      ],
      "execution_count": 0,
      "outputs": []
    },
    {
      "metadata": {
        "id": "Qkyh4ZB3S9b7",
        "colab_type": "code",
        "outputId": "1cd02690-ae86-434b-d176-5016d147746a",
        "colab": {
          "base_uri": "https://localhost:8080/",
          "height": 50
        }
      },
      "cell_type": "code",
      "source": [
        "print(train.shape)\n",
        "print(test.shape)"
      ],
      "execution_count": 0,
      "outputs": [
        {
          "output_type": "stream",
          "text": [
            "(233154, 35)\n",
            "(112392, 34)\n"
          ],
          "name": "stdout"
        }
      ]
    },
    {
      "metadata": {
        "id": "eozinnVZTAg6",
        "colab_type": "code",
        "colab": {}
      },
      "cell_type": "code",
      "source": [
        "Y = train.iloc[:, -1] #last column is the the prediction in the training set"
      ],
      "execution_count": 0,
      "outputs": []
    },
    {
      "metadata": {
        "id": "p63S5mVuZ7xO",
        "colab_type": "code",
        "outputId": "ca8c1cee-c178-438c-c3f6-07f7431037ce",
        "colab": {
          "base_uri": "https://localhost:8080/",
          "height": 34
        }
      },
      "cell_type": "code",
      "source": [
        "Y.shape"
      ],
      "execution_count": 0,
      "outputs": [
        {
          "output_type": "execute_result",
          "data": {
            "text/plain": [
              "(233154,)"
            ]
          },
          "metadata": {
            "tags": []
          },
          "execution_count": 9
        }
      ]
    },
    {
      "metadata": {
        "id": "QYalyHPhaxYb",
        "colab_type": "code",
        "colab": {}
      },
      "cell_type": "code",
      "source": [
        "X = train.drop(['loan_default'], axis = 1)"
      ],
      "execution_count": 0,
      "outputs": []
    },
    {
      "metadata": {
        "id": "8UtNVieoa46k",
        "colab_type": "code",
        "outputId": "d6ca5327-b9ca-45d5-9ea1-211eee45d988",
        "colab": {
          "base_uri": "https://localhost:8080/",
          "height": 34
        }
      },
      "cell_type": "code",
      "source": [
        "X.shape"
      ],
      "execution_count": 0,
      "outputs": [
        {
          "output_type": "execute_result",
          "data": {
            "text/plain": [
              "(233154, 34)"
            ]
          },
          "metadata": {
            "tags": []
          },
          "execution_count": 11
        }
      ]
    },
    {
      "metadata": {
        "id": "TrLWHAC5qdam",
        "colab_type": "code",
        "colab": {}
      },
      "cell_type": "code",
      "source": [
        "test_X = test.iloc[:,:]"
      ],
      "execution_count": 0,
      "outputs": []
    },
    {
      "metadata": {
        "id": "5UrjcQezbh3j",
        "colab_type": "code",
        "outputId": "a9e25eb2-d5d1-48da-8ae2-1b22424675e9",
        "colab": {
          "base_uri": "https://localhost:8080/",
          "height": 185
        }
      },
      "cell_type": "code",
      "source": [
        "X.sample(3) # Checking whether irrelevant rows are dropped or not"
      ],
      "execution_count": 0,
      "outputs": [
        {
          "output_type": "execute_result",
          "data": {
            "text/html": [
              "<div>\n",
              "<style scoped>\n",
              "    .dataframe tbody tr th:only-of-type {\n",
              "        vertical-align: middle;\n",
              "    }\n",
              "\n",
              "    .dataframe tbody tr th {\n",
              "        vertical-align: top;\n",
              "    }\n",
              "\n",
              "    .dataframe thead th {\n",
              "        text-align: right;\n",
              "    }\n",
              "</style>\n",
              "<table border=\"1\" class=\"dataframe\">\n",
              "  <thead>\n",
              "    <tr style=\"text-align: right;\">\n",
              "      <th></th>\n",
              "      <th>disbursed_amount</th>\n",
              "      <th>asset_cost</th>\n",
              "      <th>ltv</th>\n",
              "      <th>branch_id</th>\n",
              "      <th>manufacturer_id</th>\n",
              "      <th>Employment.Type</th>\n",
              "      <th>State_ID</th>\n",
              "      <th>MobileNo_Avl_Flag</th>\n",
              "      <th>Aadhar_flag</th>\n",
              "      <th>PAN_flag</th>\n",
              "      <th>...</th>\n",
              "      <th>SEC.CURRENT.BALANCE</th>\n",
              "      <th>SEC.SANCTIONED.AMOUNT</th>\n",
              "      <th>SEC.DISBURSED.AMOUNT</th>\n",
              "      <th>PRIMARY.INSTAL.AMT</th>\n",
              "      <th>SEC.INSTAL.AMT</th>\n",
              "      <th>NEW.ACCTS.IN.LAST.SIX.MONTHS</th>\n",
              "      <th>DELINQUENT.ACCTS.IN.LAST.SIX.MONTHS</th>\n",
              "      <th>AVERAGE.ACCT.AGE</th>\n",
              "      <th>CREDIT.HISTORY.LENGTH</th>\n",
              "      <th>NO.OF_INQUIRIES</th>\n",
              "    </tr>\n",
              "  </thead>\n",
              "  <tbody>\n",
              "    <tr>\n",
              "      <th>193525</th>\n",
              "      <td>52103</td>\n",
              "      <td>71309</td>\n",
              "      <td>75.73</td>\n",
              "      <td>16</td>\n",
              "      <td>86</td>\n",
              "      <td>Salaried</td>\n",
              "      <td>14</td>\n",
              "      <td>1</td>\n",
              "      <td>1</td>\n",
              "      <td>0</td>\n",
              "      <td>...</td>\n",
              "      <td>0</td>\n",
              "      <td>0</td>\n",
              "      <td>0</td>\n",
              "      <td>0</td>\n",
              "      <td>0</td>\n",
              "      <td>0</td>\n",
              "      <td>0</td>\n",
              "      <td>0yrs 0mon</td>\n",
              "      <td>0yrs 0mon</td>\n",
              "      <td>0</td>\n",
              "    </tr>\n",
              "    <tr>\n",
              "      <th>110739</th>\n",
              "      <td>46000</td>\n",
              "      <td>59175</td>\n",
              "      <td>79.43</td>\n",
              "      <td>72</td>\n",
              "      <td>45</td>\n",
              "      <td>Self employed</td>\n",
              "      <td>11</td>\n",
              "      <td>1</td>\n",
              "      <td>1</td>\n",
              "      <td>0</td>\n",
              "      <td>...</td>\n",
              "      <td>0</td>\n",
              "      <td>0</td>\n",
              "      <td>0</td>\n",
              "      <td>16954</td>\n",
              "      <td>0</td>\n",
              "      <td>0</td>\n",
              "      <td>1</td>\n",
              "      <td>2yrs 5mon</td>\n",
              "      <td>6yrs 6mon</td>\n",
              "      <td>0</td>\n",
              "    </tr>\n",
              "    <tr>\n",
              "      <th>187420</th>\n",
              "      <td>22169</td>\n",
              "      <td>39482</td>\n",
              "      <td>59.93</td>\n",
              "      <td>5</td>\n",
              "      <td>48</td>\n",
              "      <td>Salaried</td>\n",
              "      <td>9</td>\n",
              "      <td>1</td>\n",
              "      <td>1</td>\n",
              "      <td>0</td>\n",
              "      <td>...</td>\n",
              "      <td>0</td>\n",
              "      <td>0</td>\n",
              "      <td>0</td>\n",
              "      <td>0</td>\n",
              "      <td>0</td>\n",
              "      <td>0</td>\n",
              "      <td>0</td>\n",
              "      <td>0yrs 0mon</td>\n",
              "      <td>0yrs 0mon</td>\n",
              "      <td>0</td>\n",
              "    </tr>\n",
              "  </tbody>\n",
              "</table>\n",
              "<p>3 rows × 34 columns</p>\n",
              "</div>"
            ],
            "text/plain": [
              "        disbursed_amount  asset_cost    ltv  branch_id  manufacturer_id  \\\n",
              "193525             52103       71309  75.73         16               86   \n",
              "110739             46000       59175  79.43         72               45   \n",
              "187420             22169       39482  59.93          5               48   \n",
              "\n",
              "       Employment.Type  State_ID  MobileNo_Avl_Flag  Aadhar_flag  PAN_flag  \\\n",
              "193525        Salaried        14                  1            1         0   \n",
              "110739   Self employed        11                  1            1         0   \n",
              "187420        Salaried         9                  1            1         0   \n",
              "\n",
              "             ...         SEC.CURRENT.BALANCE  SEC.SANCTIONED.AMOUNT  \\\n",
              "193525       ...                           0                      0   \n",
              "110739       ...                           0                      0   \n",
              "187420       ...                           0                      0   \n",
              "\n",
              "        SEC.DISBURSED.AMOUNT  PRIMARY.INSTAL.AMT SEC.INSTAL.AMT  \\\n",
              "193525                     0                   0              0   \n",
              "110739                     0               16954              0   \n",
              "187420                     0                   0              0   \n",
              "\n",
              "        NEW.ACCTS.IN.LAST.SIX.MONTHS  DELINQUENT.ACCTS.IN.LAST.SIX.MONTHS  \\\n",
              "193525                             0                                    0   \n",
              "110739                             0                                    1   \n",
              "187420                             0                                    0   \n",
              "\n",
              "        AVERAGE.ACCT.AGE  CREDIT.HISTORY.LENGTH  NO.OF_INQUIRIES  \n",
              "193525         0yrs 0mon              0yrs 0mon                0  \n",
              "110739         2yrs 5mon              6yrs 6mon                0  \n",
              "187420         0yrs 0mon              0yrs 0mon                0  \n",
              "\n",
              "[3 rows x 34 columns]"
            ]
          },
          "metadata": {
            "tags": []
          },
          "execution_count": 13
        }
      ]
    },
    {
      "metadata": {
        "id": "HvavIkOFrSv6",
        "colab_type": "code",
        "colab": {}
      },
      "cell_type": "code",
      "source": [
        "X['Employment.Type'].fillna('Self employed', inplace = True)\n",
        "test_X['Employment.Type'].fillna('Self employed', inplace = True)"
      ],
      "execution_count": 0,
      "outputs": []
    },
    {
      "metadata": {
        "id": "KaWIiB22rzne",
        "colab_type": "code",
        "outputId": "cdc0a2e7-f941-4ba9-dbde-cbb8a9949e58",
        "colab": {
          "base_uri": "https://localhost:8080/",
          "height": 67
        }
      },
      "cell_type": "code",
      "source": [
        "X['Employment.Type'].value_counts()"
      ],
      "execution_count": 0,
      "outputs": [
        {
          "output_type": "execute_result",
          "data": {
            "text/plain": [
              "Self employed    135296\n",
              "Salaried          97858\n",
              "Name: Employment.Type, dtype: int64"
            ]
          },
          "metadata": {
            "tags": []
          },
          "execution_count": 15
        }
      ]
    },
    {
      "metadata": {
        "id": "bTY6UI5Vstxl",
        "colab_type": "code",
        "colab": {}
      },
      "cell_type": "code",
      "source": [
        "X['Employment.Type'] = X['Employment.Type'].replace(('Unemployed', 'Salaried', 'Self employed'), (0, 1, 2))\n",
        "test_X['Employment.Type'] = test_X['Employment.Type'].replace(('Unemployed', 'Salaried', 'Self employed'), (0, 1, 2))"
      ],
      "execution_count": 0,
      "outputs": []
    },
    {
      "metadata": {
        "id": "UumOnTvTtClo",
        "colab_type": "code",
        "outputId": "09ffa902-946a-49b0-d78c-4f7dbb252a25",
        "colab": {
          "base_uri": "https://localhost:8080/",
          "height": 67
        }
      },
      "cell_type": "code",
      "source": [
        "X['Employment.Type'].value_counts() #Converted irrelevant strings to numbers for computations while training"
      ],
      "execution_count": 0,
      "outputs": [
        {
          "output_type": "execute_result",
          "data": {
            "text/plain": [
              "2    135296\n",
              "1     97858\n",
              "Name: Employment.Type, dtype: int64"
            ]
          },
          "metadata": {
            "tags": []
          },
          "execution_count": 17
        }
      ]
    },
    {
      "metadata": {
        "id": "nGLRaunXvxcn",
        "colab_type": "code",
        "outputId": "52c82469-2ba6-42e4-83e4-5aa46bf640fa",
        "colab": {
          "base_uri": "https://localhost:8080/",
          "height": 370
        }
      },
      "cell_type": "code",
      "source": [
        "X['PERFORM_CNS.SCORE.DESCRIPTION'].value_counts()"
      ],
      "execution_count": 0,
      "outputs": [
        {
          "output_type": "execute_result",
          "data": {
            "text/plain": [
              "No Bureau History Available                                116950\n",
              "C-Very Low Risk                                             16045\n",
              "A-Very Low Risk                                             14124\n",
              "D-Very Low Risk                                             11358\n",
              "B-Very Low Risk                                              9201\n",
              "M-Very High Risk                                             8776\n",
              "F-Low Risk                                                   8485\n",
              "K-High Risk                                                  8277\n",
              "H-Medium Risk                                                6855\n",
              "E-Low Risk                                                   5821\n",
              "I-Medium Risk                                                5557\n",
              "G-Low Risk                                                   3988\n",
              "Not Scored: Sufficient History Not Available                 3765\n",
              "J-High Risk                                                  3748\n",
              "Not Scored: Not Enough Info available on the customer        3672\n",
              "Not Scored: No Activity seen on the customer (Inactive)      2885\n",
              "Not Scored: No Updates available in last 36 months           1534\n",
              "L-Very High Risk                                             1134\n",
              "Not Scored: Only a Guarantor                                  976\n",
              "Not Scored: More than 50 active Accounts found                  3\n",
              "Name: PERFORM_CNS.SCORE.DESCRIPTION, dtype: int64"
            ]
          },
          "metadata": {
            "tags": []
          },
          "execution_count": 18
        }
      ]
    },
    {
      "metadata": {
        "id": "TIMVMfiutap5",
        "colab_type": "code",
        "colab": {}
      },
      "cell_type": "code",
      "source": [
        "X['PERFORM_CNS.SCORE.DESCRIPTION'] = X['PERFORM_CNS.SCORE.DESCRIPTION'].replace(('No Bureau History Available', \n",
        "                                     'Not Scored: Sufficient History Not Available','Not Scored: Not Enough Info available on the customer',\n",
        "                                     'Not Scored: No Activity seen on the customer (Inactive)', \n",
        "                                     'Not Scored: No Updates available in last 36 months', 'Not Scored: Only a Guarantor', \n",
        "                                     'Not Scored: More than 50 active Accounts found'),(0, 0, 0, 0, 0, 0, 0))\n",
        "\n",
        "X['PERFORM_CNS.SCORE.DESCRIPTION'] = X['PERFORM_CNS.SCORE.DESCRIPTION'].replace(('L-Very High Risk', 'M-Very High Risk'), (1, 1))\n",
        "\n",
        "X['PERFORM_CNS.SCORE.DESCRIPTION'] = X['PERFORM_CNS.SCORE.DESCRIPTION'].replace(('J-High Risk', 'K-High Risk'), (2, 2))\n",
        "\n",
        "X['PERFORM_CNS.SCORE.DESCRIPTION'] = X['PERFORM_CNS.SCORE.DESCRIPTION'].replace(('H-Medium Risk', 'I-Medium Risk'), (3, 3))\n",
        "\n",
        "X['PERFORM_CNS.SCORE.DESCRIPTION'] = X['PERFORM_CNS.SCORE.DESCRIPTION'].replace(('E-Low Risk', 'F-Low Risk', 'G-Low Risk'), (4, 4, 4))\n",
        "\n",
        "X['PERFORM_CNS.SCORE.DESCRIPTION'] = X['PERFORM_CNS.SCORE.DESCRIPTION'].replace(('A-Very Low Risk', 'B-Very Low Risk',\n",
        "                                      'C-Very Low Risk', 'D-Very Low Risk'), (5, 5, 5, 5))"
      ],
      "execution_count": 0,
      "outputs": []
    },
    {
      "metadata": {
        "id": "rSjZIF7EzdEI",
        "colab_type": "code",
        "outputId": "59621d81-8efc-4b8a-9804-e149485c1a03",
        "colab": {
          "base_uri": "https://localhost:8080/",
          "height": 134
        }
      },
      "cell_type": "code",
      "source": [
        "X['PERFORM_CNS.SCORE.DESCRIPTION'].value_counts()"
      ],
      "execution_count": 0,
      "outputs": [
        {
          "output_type": "execute_result",
          "data": {
            "text/plain": [
              "0    129785\n",
              "5     50728\n",
              "4     18294\n",
              "3     12412\n",
              "2     12025\n",
              "1      9910\n",
              "Name: PERFORM_CNS.SCORE.DESCRIPTION, dtype: int64"
            ]
          },
          "metadata": {
            "tags": []
          },
          "execution_count": 20
        }
      ]
    },
    {
      "metadata": {
        "id": "T3RviejH0Q6v",
        "colab_type": "code",
        "outputId": "6a604fdc-f11a-4d67-ca30-5f510df53fb6",
        "colab": {
          "base_uri": "https://localhost:8080/",
          "height": 353
        }
      },
      "cell_type": "code",
      "source": [
        "test_X['PERFORM_CNS.SCORE.DESCRIPTION'].value_counts()"
      ],
      "execution_count": 0,
      "outputs": [
        {
          "output_type": "execute_result",
          "data": {
            "text/plain": [
              "No Bureau History Available                                57893\n",
              "C-Very Low Risk                                             7825\n",
              "A-Very Low Risk                                             7559\n",
              "D-Very Low Risk                                             5114\n",
              "B-Very Low Risk                                             4495\n",
              "M-Very High Risk                                            4032\n",
              "K-High Risk                                                 3864\n",
              "F-Low Risk                                                  3691\n",
              "H-Medium Risk                                               3287\n",
              "I-Medium Risk                                               2703\n",
              "E-Low Risk                                                  2572\n",
              "G-Low Risk                                                  1807\n",
              "J-High Risk                                                 1778\n",
              "Not Scored: No Activity seen on the customer (Inactive)     1361\n",
              "Not Scored: Not Enough Info available on the customer       1268\n",
              "Not Scored: Sufficient History Not Available                1260\n",
              "Not Scored: No Updates available in last 36 months           765\n",
              "L-Very High Risk                                             648\n",
              "Not Scored: Only a Guarantor                                 470\n",
              "Name: PERFORM_CNS.SCORE.DESCRIPTION, dtype: int64"
            ]
          },
          "metadata": {
            "tags": []
          },
          "execution_count": 21
        }
      ]
    },
    {
      "metadata": {
        "id": "g1HEReVCzbck",
        "colab_type": "code",
        "colab": {}
      },
      "cell_type": "code",
      "source": [
        "test_X['PERFORM_CNS.SCORE.DESCRIPTION'] = test_X['PERFORM_CNS.SCORE.DESCRIPTION'].replace(('No Bureau History Available', \n",
        "                                     'Not Scored: Sufficient History Not Available','Not Scored: Not Enough Info available on the customer',\n",
        "                                     'Not Scored: No Activity seen on the customer (Inactive)', \n",
        "                                     'Not Scored: No Updates available in last 36 months', 'Not Scored: Only a Guarantor', \n",
        "                                     'Not Scored: More than 50 active Accounts found'),(0, 0, 0, 0, 0, 0, 0))\n",
        "\n",
        "test_X['PERFORM_CNS.SCORE.DESCRIPTION'] = test_X['PERFORM_CNS.SCORE.DESCRIPTION'].replace(('L-Very High Risk', 'M-Very High Risk'), (1, 1))\n",
        "\n",
        "test_X['PERFORM_CNS.SCORE.DESCRIPTION'] = test_X['PERFORM_CNS.SCORE.DESCRIPTION'].replace(('J-High Risk', 'K-High Risk'), (2, 2))\n",
        "\n",
        "test_X['PERFORM_CNS.SCORE.DESCRIPTION'] = test_X['PERFORM_CNS.SCORE.DESCRIPTION'].replace(('H-Medium Risk', 'I-Medium Risk'), (3, 3))\n",
        "\n",
        "test_X['PERFORM_CNS.SCORE.DESCRIPTION'] = test_X['PERFORM_CNS.SCORE.DESCRIPTION'].replace(('E-Low Risk', 'F-Low Risk', 'G-Low Risk'), (4, 4, 4))\n",
        "\n",
        "test_X['PERFORM_CNS.SCORE.DESCRIPTION'] = test_X['PERFORM_CNS.SCORE.DESCRIPTION'].replace(('A-Very Low Risk', 'B-Very Low Risk',\n",
        "                                      'C-Very Low Risk', 'D-Very Low Risk'), (5, 5, 5, 5))\n",
        " "
      ],
      "execution_count": 0,
      "outputs": []
    },
    {
      "metadata": {
        "id": "SvrnMurr0sSq",
        "colab_type": "code",
        "outputId": "2674c1f5-5603-40a2-fcd8-a6d12db551ea",
        "colab": {
          "base_uri": "https://localhost:8080/",
          "height": 134
        }
      },
      "cell_type": "code",
      "source": [
        "test_X['PERFORM_CNS.SCORE.DESCRIPTION'].value_counts()"
      ],
      "execution_count": 0,
      "outputs": [
        {
          "output_type": "execute_result",
          "data": {
            "text/plain": [
              "0    63017\n",
              "5    24993\n",
              "4     8070\n",
              "3     5990\n",
              "2     5642\n",
              "1     4680\n",
              "Name: PERFORM_CNS.SCORE.DESCRIPTION, dtype: int64"
            ]
          },
          "metadata": {
            "tags": []
          },
          "execution_count": 23
        }
      ]
    },
    {
      "metadata": {
        "id": "U7huU1z71pni",
        "colab_type": "code",
        "colab": {}
      },
      "cell_type": "code",
      "source": [
        "import re\n",
        "def toMonths(str):\n",
        "  cache = []\n",
        "  for k in X[str]:\n",
        "    temp = int(re.split(\"[yrs mon]+\", k)[0]) * 12 + int(re.split(\"[yrs mon]+\", k)[1])\n",
        "    cache.append(temp)\n",
        "  return cache"
      ],
      "execution_count": 0,
      "outputs": []
    },
    {
      "metadata": {
        "id": "rnzcq7Qg9HFO",
        "colab_type": "code",
        "colab": {}
      },
      "cell_type": "code",
      "source": [
        "def toMonthstest(str):\n",
        "  cache = []\n",
        "  for k in test_X[str]:\n",
        "    temp = int(re.split(\"[yrs mon]+\", k)[0]) * 12 + int(re.split(\"[yrs mon]+\", k)[1])\n",
        "    cache.append(temp)\n",
        "  return cache"
      ],
      "execution_count": 0,
      "outputs": []
    },
    {
      "metadata": {
        "id": "wTFyssJr74zX",
        "colab_type": "code",
        "outputId": "b99cf8a0-7d55-42f9-c8fd-307819a475d5",
        "colab": {
          "base_uri": "https://localhost:8080/",
          "height": 118
        }
      },
      "cell_type": "code",
      "source": [
        "X['CREDIT.HISTORY.LENGTH'] = toMonths('CREDIT.HISTORY.LENGTH')\n",
        "X['CREDIT.HISTORY.LENGTH'][:5]"
      ],
      "execution_count": 0,
      "outputs": [
        {
          "output_type": "execute_result",
          "data": {
            "text/plain": [
              "0     0\n",
              "1    23\n",
              "2     0\n",
              "3    15\n",
              "4     0\n",
              "Name: CREDIT.HISTORY.LENGTH, dtype: int64"
            ]
          },
          "metadata": {
            "tags": []
          },
          "execution_count": 26
        }
      ]
    },
    {
      "metadata": {
        "id": "-2vPYmUT8Z3l",
        "colab_type": "code",
        "colab": {}
      },
      "cell_type": "code",
      "source": [
        "X['AVERAGE.ACCT.AGE'] = toMonths('AVERAGE.ACCT.AGE')"
      ],
      "execution_count": 0,
      "outputs": []
    },
    {
      "metadata": {
        "id": "1JvAR4zX85qY",
        "colab_type": "code",
        "outputId": "33bcc9b8-ebf4-441b-ad1f-779544b92545",
        "colab": {
          "base_uri": "https://localhost:8080/",
          "height": 118
        }
      },
      "cell_type": "code",
      "source": [
        "X['AVERAGE.ACCT.AGE'][:5]"
      ],
      "execution_count": 0,
      "outputs": [
        {
          "output_type": "execute_result",
          "data": {
            "text/plain": [
              "0     0\n",
              "1    23\n",
              "2     0\n",
              "3     8\n",
              "4     0\n",
              "Name: AVERAGE.ACCT.AGE, dtype: int64"
            ]
          },
          "metadata": {
            "tags": []
          },
          "execution_count": 28
        }
      ]
    },
    {
      "metadata": {
        "id": "FhK0KTh7893A",
        "colab_type": "code",
        "outputId": "c559199d-e9f1-4f68-a286-2c2a74b61d1f",
        "colab": {
          "base_uri": "https://localhost:8080/",
          "height": 118
        }
      },
      "cell_type": "code",
      "source": [
        "test_X['CREDIT.HISTORY.LENGTH'] = toMonthstest('CREDIT.HISTORY.LENGTH')\n",
        "test_X['AVERAGE.ACCT.AGE'] = toMonthstest('AVERAGE.ACCT.AGE')\n",
        "test_X['AVERAGE.ACCT.AGE'][0:5]"
      ],
      "execution_count": 0,
      "outputs": [
        {
          "output_type": "execute_result",
          "data": {
            "text/plain": [
              "0     0\n",
              "1     8\n",
              "2     0\n",
              "3    29\n",
              "4     0\n",
              "Name: AVERAGE.ACCT.AGE, dtype: int64"
            ]
          },
          "metadata": {
            "tags": []
          },
          "execution_count": 29
        }
      ]
    },
    {
      "metadata": {
        "id": "uUOkPAHrm1Uu",
        "colab_type": "code",
        "colab": {}
      },
      "cell_type": "code",
      "source": [
        "from imblearn.over_sampling import SMOTE\n",
        "\n",
        "x_train, y_train = SMOTE().fit_sample(X, Y.values.ravel()) "
      ],
      "execution_count": 0,
      "outputs": []
    },
    {
      "metadata": {
        "id": "Q2oVE2DblYlU",
        "colab_type": "code",
        "outputId": "3314ee0e-2fd1-43cb-b3db-101cb38e9944",
        "colab": {
          "base_uri": "https://localhost:8080/",
          "height": 50
        }
      },
      "cell_type": "code",
      "source": [
        "print(x_train.shape)\n",
        "print(y_train.shape)"
      ],
      "execution_count": 0,
      "outputs": [
        {
          "output_type": "stream",
          "text": [
            "(365086, 34)\n",
            "(365086,)\n"
          ],
          "name": "stdout"
        }
      ]
    },
    {
      "metadata": {
        "id": "KgDmFlolkpuz",
        "colab_type": "code",
        "colab": {}
      },
      "cell_type": "code",
      "source": [
        "import numpy as np\n",
        "from sklearn.model_selection import train_test_split\n",
        "\n",
        "#splitting training data into train and validation set\n",
        "X_train, X_valid, Y_train, Y_valid = train_test_split(x_train, y_train, test_size = 0.2, random_state = 0)"
      ],
      "execution_count": 0,
      "outputs": []
    },
    {
      "metadata": {
        "id": "zG9Q3hjpli6Q",
        "colab_type": "code",
        "outputId": "af62f347-a33e-4fab-82e5-8afc7f1d2968",
        "colab": {
          "base_uri": "https://localhost:8080/",
          "height": 50
        }
      },
      "cell_type": "code",
      "source": [
        "print(X_train.shape)\n",
        "print(Y_train.shape)"
      ],
      "execution_count": 0,
      "outputs": [
        {
          "output_type": "stream",
          "text": [
            "(292068, 34)\n",
            "(292068,)\n"
          ],
          "name": "stdout"
        }
      ]
    },
    {
      "metadata": {
        "id": "90wztmHxlsiB",
        "colab_type": "code",
        "outputId": "d951aa77-5d57-4135-9364-19ca9869d3f7",
        "colab": {
          "base_uri": "https://localhost:8080/",
          "height": 50
        }
      },
      "cell_type": "code",
      "source": [
        "print(X_valid.shape)\n",
        "print(Y_valid.shape)"
      ],
      "execution_count": 0,
      "outputs": [
        {
          "output_type": "stream",
          "text": [
            "(73018, 34)\n",
            "(73018,)\n"
          ],
          "name": "stdout"
        }
      ]
    },
    {
      "metadata": {
        "id": "P2uUjw6YmNJR",
        "colab_type": "code",
        "outputId": "b78eb1d3-15f6-4529-a1f1-bf2d514bb6dd",
        "colab": {
          "base_uri": "https://localhost:8080/",
          "height": 70
        }
      },
      "cell_type": "code",
      "source": [
        "from sklearn.preprocessing import StandardScaler\n",
        "\n",
        "scalar = StandardScaler()\n",
        "X_train = scalar.fit_transform(X_train)\n",
        "X_valid = scalar.transform(X_valid)\n",
        "test_X = scalar.transform(test_X)"
      ],
      "execution_count": 0,
      "outputs": [
        {
          "output_type": "stream",
          "text": [
            "/usr/local/lib/python3.6/dist-packages/ipykernel_launcher.py:6: DataConversionWarning: Data with input dtype int64, float64 were all converted to float64 by StandardScaler.\n",
            "  \n"
          ],
          "name": "stderr"
        }
      ]
    },
    {
      "metadata": {
        "id": "QWFk4auvHOWL",
        "colab_type": "code",
        "outputId": "0edd955b-3c6e-4544-e5b7-c5622d7eb206",
        "colab": {
          "base_uri": "https://localhost:8080/",
          "height": 67
        }
      },
      "cell_type": "code",
      "source": [
        "from xgboost.sklearn import XGBClassifier\n",
        "from sklearn.metrics import roc_auc_score\n",
        "\n",
        "modelXG = XGBClassifier()\n",
        "modelXG.fit(X_train, Y_train)\n",
        "\n",
        "Y_predXG = modelXG.predict(X_valid)\n",
        "\n",
        "print(\"Train Accuracy: \", modelXG.score(X_train, Y_train))\n",
        "print(\"Validation Accuracy: \", modelXG.score(X_valid, Y_valid))\n",
        "\n",
        "print(\"AUROC Score of XGBoost = \", roc_auc_score(Y_valid, Y_predXG))"
      ],
      "execution_count": 0,
      "outputs": [
        {
          "output_type": "stream",
          "text": [
            "Train Accuracy:  0.8288412287549475\n",
            "Validation Accuracy:  0.8272069900572462\n",
            "AUROC Score of XGBoost =  0.8265938225237444\n"
          ],
          "name": "stdout"
        }
      ]
    },
    {
      "metadata": {
        "id": "z5LiArTPBj1N",
        "colab_type": "code",
        "outputId": "223b4f9c-dc1c-4591-dd9a-bcf62fda2b27",
        "colab": {
          "base_uri": "https://localhost:8080/",
          "height": 121
        }
      },
      "cell_type": "code",
      "source": [
        "from sklearn.ensemble import RandomForestClassifier\n",
        "\n",
        "modelRF = RandomForestClassifier()\n",
        "modelRF.fit(X_train, Y_train)\n",
        "\n",
        "Y_predRF = modelRF.predict(X_valid)\n",
        "\n",
        "print(\"Train Accuracy: \", modelRF.score(X_train, Y_train))\n",
        "print(\"Validation Accuracy: \", modelRF.score(X_valid, Y_valid))\n",
        "\n",
        "print(\"AUROC Score of Random Forest = \", roc_auc_score(Y_valid, Y_predRF))"
      ],
      "execution_count": 0,
      "outputs": [
        {
          "output_type": "stream",
          "text": [
            "/usr/local/lib/python3.6/dist-packages/sklearn/ensemble/forest.py:246: FutureWarning: The default value of n_estimators will change from 10 in version 0.20 to 100 in 0.22.\n",
            "  \"10 in version 0.20 to 100 in 0.22.\", FutureWarning)\n"
          ],
          "name": "stderr"
        },
        {
          "output_type": "stream",
          "text": [
            "Train Accuracy:  0.9834901461303532\n",
            "Validation Accuracy:  0.8365608480100797\n",
            "AUROC Score of Random Forest =  0.8362252350232474\n"
          ],
          "name": "stdout"
        }
      ]
    },
    {
      "metadata": {
        "id": "Qr3-TBfKGRoC",
        "colab_type": "code",
        "outputId": "b1f17846-c37e-4dfc-ec85-e0a1b9638576",
        "colab": {
          "base_uri": "https://localhost:8080/",
          "height": 67
        }
      },
      "cell_type": "code",
      "source": [
        "from sklearn.ensemble import AdaBoostClassifier\n",
        "\n",
        "modelAB = AdaBoostClassifier()\n",
        "modelAB.fit(X_train, Y_train)\n",
        "\n",
        "Y_predAB = modelAB.predict(X_valid)\n",
        "\n",
        "print(\"Train Accuracy: \", modelAB.score(X_train, Y_train))\n",
        "print(\"Validation Accuracy: \", modelAB.score(X_valid, Y_valid))\n",
        "\n",
        "print(\"AUROC Score of AdaBoost = \", roc_auc_score(Y_valid, Y_predAB))"
      ],
      "execution_count": 0,
      "outputs": [
        {
          "output_type": "stream",
          "text": [
            "Train Accuracy:  0.7895113466726926\n",
            "Validation Accuracy:  0.7885726807088663\n",
            "AUROC Score of AdaBoost =  0.7881084133400471\n"
          ],
          "name": "stdout"
        }
      ]
    },
    {
      "metadata": {
        "id": "UWCOVXeXjW3r",
        "colab_type": "code",
        "outputId": "2524c259-122d-469b-e5ba-283cfab4d03b",
        "colab": {
          "base_uri": "https://localhost:8080/",
          "height": 67
        }
      },
      "cell_type": "code",
      "source": [
        "from sklearn.ensemble import GradientBoostingClassifier\n",
        "\n",
        "modelGB = GradientBoostingClassifier()\n",
        "modelGB.fit(X_train, Y_train)\n",
        "\n",
        "Y_predGB = modelGB.predict(X_valid)\n",
        "\n",
        "print(\"Training Accuracy: \", modelGB.score(X_train, Y_train))\n",
        "print('Testing Accuarcy: ', modelGB.score(X_valid, Y_valid))\n",
        "\n",
        "print(\"AUROC Score of Gradient Boosting = \", roc_auc_score(Y_valid, Y_predGB))"
      ],
      "execution_count": 0,
      "outputs": [
        {
          "output_type": "stream",
          "text": [
            "Training Accuracy:  0.8296492597614255\n",
            "Testing Accuarcy:  0.827850666958832\n",
            "AUROC Score of Gradient Boosting =  0.8272430477219446\n"
          ],
          "name": "stdout"
        }
      ]
    },
    {
      "metadata": {
        "id": "Zfs3o3biZYbm",
        "colab_type": "code",
        "outputId": "72ed853d-82a8-47fe-95f7-54e80ba07c41",
        "colab": {
          "base_uri": "https://localhost:8080/",
          "height": 67
        }
      },
      "cell_type": "code",
      "source": [
        "from lightgbm import LGBMClassifier\n",
        "\n",
        "modelLGBM = LGBMClassifier()\n",
        "modelLGBM.fit(X_train, Y_train)\n",
        "\n",
        "Y_predLGBM = modelLGBM.predict(X_valid)\n",
        "\n",
        "print(\"Training Accuracy: \", modelLGBM.score(X_train, Y_train))\n",
        "print('Testing Accuarcy: ', modelLGBM.score(X_valid, Y_valid))\n",
        "\n",
        "print(\"AUROC Score of LGBM = \", roc_auc_score(Y_valid, Y_predLGBM))"
      ],
      "execution_count": 0,
      "outputs": [
        {
          "output_type": "stream",
          "text": [
            "Training Accuracy:  0.8525172220167906\n",
            "Testing Accuarcy:  0.8504204442740146\n",
            "AUROC Score of LGBM =  0.8498838616255058\n"
          ],
          "name": "stdout"
        }
      ]
    },
    {
      "metadata": {
        "id": "fsjoP1wbPp1N",
        "colab_type": "code",
        "colab": {}
      },
      "cell_type": "code",
      "source": [
        "test_Y_RF = modelRF.predict(test_X)\n",
        "test_Y_XG = modelXG.predict(test_X)\n",
        "test_Y_AB = modelAB.predict(test_X)\n",
        "test_Y_LGBM = modelLGBM.predict(test_X)\n",
        "test_Y_GB = modelGB.predict(test_X)\n",
        "test_Y_pred = []\n",
        "\n",
        "for i in range(len(test_Y_RF)):\n",
        "  k = 0.35 * test_Y_LGBM[i] + 0.25 * test_Y_RF[i] + 0.175 * test_Y_GB[i] + 0.125 * test_Y_XG[i] + 0.1 * test_Y_AB[i] # weighted averaging\n",
        "  test_Y_pred.append(k)"
      ],
      "execution_count": 0,
      "outputs": []
    },
    {
      "metadata": {
        "id": "DBRRvxhOSOOY",
        "colab_type": "code",
        "outputId": "15ff814f-b6dc-4339-a33d-ba542b1e8711",
        "colab": {
          "base_uri": "https://localhost:8080/",
          "height": 195
        }
      },
      "cell_type": "code",
      "source": [
        "output = pd.read_csv('sample_submission_24jSKY6.csv')\n",
        "\n",
        "output.head()"
      ],
      "execution_count": 0,
      "outputs": [
        {
          "output_type": "execute_result",
          "data": {
            "text/html": [
              "<div>\n",
              "<style scoped>\n",
              "    .dataframe tbody tr th:only-of-type {\n",
              "        vertical-align: middle;\n",
              "    }\n",
              "\n",
              "    .dataframe tbody tr th {\n",
              "        vertical-align: top;\n",
              "    }\n",
              "\n",
              "    .dataframe thead th {\n",
              "        text-align: right;\n",
              "    }\n",
              "</style>\n",
              "<table border=\"1\" class=\"dataframe\">\n",
              "  <thead>\n",
              "    <tr style=\"text-align: right;\">\n",
              "      <th></th>\n",
              "      <th>UniqueID</th>\n",
              "      <th>loan_default</th>\n",
              "    </tr>\n",
              "  </thead>\n",
              "  <tbody>\n",
              "    <tr>\n",
              "      <th>0</th>\n",
              "      <td>655269</td>\n",
              "      <td>0</td>\n",
              "    </tr>\n",
              "    <tr>\n",
              "      <th>1</th>\n",
              "      <td>723482</td>\n",
              "      <td>0</td>\n",
              "    </tr>\n",
              "    <tr>\n",
              "      <th>2</th>\n",
              "      <td>758529</td>\n",
              "      <td>0</td>\n",
              "    </tr>\n",
              "    <tr>\n",
              "      <th>3</th>\n",
              "      <td>763449</td>\n",
              "      <td>0</td>\n",
              "    </tr>\n",
              "    <tr>\n",
              "      <th>4</th>\n",
              "      <td>708663</td>\n",
              "      <td>0</td>\n",
              "    </tr>\n",
              "  </tbody>\n",
              "</table>\n",
              "</div>"
            ],
            "text/plain": [
              "   UniqueID  loan_default\n",
              "0    655269             0\n",
              "1    723482             0\n",
              "2    758529             0\n",
              "3    763449             0\n",
              "4    708663             0"
            ]
          },
          "metadata": {
            "tags": []
          },
          "execution_count": 68
        }
      ]
    },
    {
      "metadata": {
        "id": "zfM2StoGTA8C",
        "colab_type": "code",
        "outputId": "eb2ae4f7-7a44-49a4-850c-14c0c51070e2",
        "colab": {
          "base_uri": "https://localhost:8080/",
          "height": 195
        }
      },
      "cell_type": "code",
      "source": [
        "test = pd.read_csv('test_bqCt9Pv.csv')\n",
        "uid = test['UniqueID']\n",
        "output = pd.DataFrame({'UniqueID': uid, 'loan_default': test_Y_pred})\n",
        "\n",
        "output.head()"
      ],
      "execution_count": 0,
      "outputs": [
        {
          "output_type": "execute_result",
          "data": {
            "text/html": [
              "<div>\n",
              "<style scoped>\n",
              "    .dataframe tbody tr th:only-of-type {\n",
              "        vertical-align: middle;\n",
              "    }\n",
              "\n",
              "    .dataframe tbody tr th {\n",
              "        vertical-align: top;\n",
              "    }\n",
              "\n",
              "    .dataframe thead th {\n",
              "        text-align: right;\n",
              "    }\n",
              "</style>\n",
              "<table border=\"1\" class=\"dataframe\">\n",
              "  <thead>\n",
              "    <tr style=\"text-align: right;\">\n",
              "      <th></th>\n",
              "      <th>UniqueID</th>\n",
              "      <th>loan_default</th>\n",
              "    </tr>\n",
              "  </thead>\n",
              "  <tbody>\n",
              "    <tr>\n",
              "      <th>0</th>\n",
              "      <td>655269</td>\n",
              "      <td>0.3</td>\n",
              "    </tr>\n",
              "    <tr>\n",
              "      <th>1</th>\n",
              "      <td>723482</td>\n",
              "      <td>0.0</td>\n",
              "    </tr>\n",
              "    <tr>\n",
              "      <th>2</th>\n",
              "      <td>758529</td>\n",
              "      <td>0.0</td>\n",
              "    </tr>\n",
              "    <tr>\n",
              "      <th>3</th>\n",
              "      <td>763449</td>\n",
              "      <td>0.0</td>\n",
              "    </tr>\n",
              "    <tr>\n",
              "      <th>4</th>\n",
              "      <td>708663</td>\n",
              "      <td>0.0</td>\n",
              "    </tr>\n",
              "  </tbody>\n",
              "</table>\n",
              "</div>"
            ],
            "text/plain": [
              "   UniqueID  loan_default\n",
              "0    655269           0.3\n",
              "1    723482           0.0\n",
              "2    758529           0.0\n",
              "3    763449           0.0\n",
              "4    708663           0.0"
            ]
          },
          "metadata": {
            "tags": []
          },
          "execution_count": 69
        }
      ]
    },
    {
      "metadata": {
        "id": "2FbrA3cJV7ji",
        "colab_type": "code",
        "colab": {}
      },
      "cell_type": "code",
      "source": [
        "output.to_csv('final.csv',index=False)"
      ],
      "execution_count": 0,
      "outputs": []
    },
    {
      "metadata": {
        "id": "TGDOJqSVXOiY",
        "colab_type": "code",
        "colab": {}
      },
      "cell_type": "code",
      "source": [
        "from google.colab import files\n",
        "files.download(\"final.csv\")"
      ],
      "execution_count": 0,
      "outputs": []
    }
  ]
}